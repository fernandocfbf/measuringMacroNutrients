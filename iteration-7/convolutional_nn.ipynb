{
 "cells": [
  {
   "cell_type": "code",
   "execution_count": 8,
   "metadata": {},
   "outputs": [],
   "source": [
    "# set the matplotlib backend so figures can be saved in the background\n",
    "import matplotlib\n",
    "\n",
    "# import the necessary packages\n",
    "from small_vgg_net import *\n",
    "from load_images_cnn import *\n",
    "from sklearn.preprocessing import LabelBinarizer\n",
    "from sklearn.model_selection import train_test_split\n",
    "from sklearn.metrics import classification_report\n",
    "from tensorflow.keras.preprocessing.image import ImageDataGenerator\n",
    "from tensorflow.keras.optimizers import SGD\n",
    "import tensorflow as tf\n",
    "import keras\n",
    "import matplotlib.pyplot as plt\n",
    "import numpy as np\n",
    "import argparse\n",
    "import random\n",
    "import pickle\n",
    "import cv2\n",
    "import os"
   ]
  },
  {
   "cell_type": "code",
   "execution_count": 2,
   "metadata": {},
   "outputs": [
    {
     "name": "stderr",
     "output_type": "stream",
     "text": [
      "973it [00:16, 57.25it/s]\n",
      "525it [00:12, 40.92it/s]\n"
     ]
    }
   ],
   "source": [
    "x, y = load_data()"
   ]
  },
  {
   "cell_type": "code",
   "execution_count": 3,
   "metadata": {},
   "outputs": [],
   "source": [
    "train_x, test_x, train_y, test_y =  train_test_split(x, y, test_size=0.33, random_state=84)"
   ]
  },
  {
   "cell_type": "code",
   "execution_count": 4,
   "metadata": {},
   "outputs": [],
   "source": [
    "lb = LabelBinarizer()\n",
    "train_y = lb.fit_transform(train_y)\n",
    "test_y = lb.transform(test_y)"
   ]
  },
  {
   "cell_type": "code",
   "execution_count": 5,
   "metadata": {},
   "outputs": [],
   "source": [
    "# construct the image generator for data augmentation\n",
    "aug = ImageDataGenerator(rotation_range=30, width_shift_range=0.1, \n",
    "                         height_shift_range=0.1, shear_range=0.2, zoom_range=0.2,\n",
    "                         horizontal_flip=True, fill_mode=\"nearest\")\n",
    "# initialize our VGG-like Convolutional Neural Network\n",
    "model = SmallVGGNet.build(width=64, height=64, depth=3, classes=len(lb.classes_))"
   ]
  },
  {
   "cell_type": "code",
   "execution_count": 19,
   "metadata": {},
   "outputs": [
    {
     "name": "stdout",
     "output_type": "stream",
     "text": [
      "[INFO] training network...\n",
      "Epoch 1/75\n",
      "31/31 [==============================] - 22s 661ms/step - loss: 0.9225 - accuracy: 0.6832 - val_loss: 0.5609 - val_accuracy: 0.7818\n",
      "INFO:tensorflow:Assets written to: C:\\Users\\ferna\\Documents\\Insper\\IC\\measuringMacroNutrients\\iteration-7\\assets\n",
      "Epoch 2/75\n",
      "31/31 [==============================] - 23s 750ms/step - loss: 0.6723 - accuracy: 0.7313 - val_loss: 0.5332 - val_accuracy: 0.7232\n",
      "Epoch 3/75\n",
      "31/31 [==============================] - 25s 800ms/step - loss: 0.6385 - accuracy: 0.7188 - val_loss: 0.5621 - val_accuracy: 0.7111\n",
      "Epoch 4/75\n",
      "31/31 [==============================] - 25s 819ms/step - loss: 0.5553 - accuracy: 0.7599 - val_loss: 0.7187 - val_accuracy: 0.6485\n",
      "Epoch 5/75\n",
      "31/31 [==============================] - 26s 841ms/step - loss: 0.4661 - accuracy: 0.7995 - val_loss: 1.6507 - val_accuracy: 0.6263\n",
      "Epoch 6/75\n",
      "31/31 [==============================] - 27s 858ms/step - loss: 0.5021 - accuracy: 0.7766 - val_loss: 1.1096 - val_accuracy: 0.6263\n",
      "Epoch 7/75\n",
      "31/31 [==============================] - 25s 818ms/step - loss: 0.4257 - accuracy: 0.8251 - val_loss: 0.5346 - val_accuracy: 0.6828\n",
      "Epoch 8/75\n",
      "31/31 [==============================] - 27s 878ms/step - loss: 0.3334 - accuracy: 0.8667 - val_loss: 0.9354 - val_accuracy: 0.6283\n",
      "Epoch 9/75\n",
      "31/31 [==============================] - 27s 878ms/step - loss: 0.3649 - accuracy: 0.8553 - val_loss: 0.5825 - val_accuracy: 0.7354\n",
      "Epoch 10/75\n",
      "31/31 [==============================] - 27s 903ms/step - loss: 0.3817 - accuracy: 0.8309 - val_loss: 0.9039 - val_accuracy: 0.6525\n",
      "Epoch 11/75\n",
      "31/31 [==============================] - 28s 898ms/step - loss: 0.3578 - accuracy: 0.8282 - val_loss: 1.5630 - val_accuracy: 0.6263\n",
      "Epoch 12/75\n",
      "31/31 [==============================] - 28s 906ms/step - loss: 0.4675 - accuracy: 0.7984 - val_loss: 0.7586 - val_accuracy: 0.7131\n",
      "Epoch 13/75\n",
      "31/31 [==============================] - 26s 829ms/step - loss: 0.3805 - accuracy: 0.8297 - val_loss: 1.2171 - val_accuracy: 0.6283\n",
      "Epoch 14/75\n",
      "31/31 [==============================] - 26s 828ms/step - loss: 0.3771 - accuracy: 0.8371 - val_loss: 1.2538 - val_accuracy: 0.6727\n",
      "Epoch 15/75\n",
      "31/31 [==============================] - 28s 886ms/step - loss: 0.3763 - accuracy: 0.8369 - val_loss: 0.8907 - val_accuracy: 0.7051\n",
      "Epoch 16/75\n",
      "31/31 [==============================] - 25s 810ms/step - loss: 0.3663 - accuracy: 0.8444 - val_loss: 0.7135 - val_accuracy: 0.7051\n",
      "Epoch 17/75\n",
      "31/31 [==============================] - 27s 878ms/step - loss: 0.3270 - accuracy: 0.8716 - val_loss: 0.5255 - val_accuracy: 0.7838\n",
      "INFO:tensorflow:Assets written to: C:\\Users\\ferna\\Documents\\Insper\\IC\\measuringMacroNutrients\\iteration-7\\assets\n",
      "Epoch 18/75\n",
      "31/31 [==============================] - 27s 886ms/step - loss: 0.3651 - accuracy: 0.8409 - val_loss: 0.5889 - val_accuracy: 0.7697\n",
      "Epoch 19/75\n",
      "31/31 [==============================] - 23s 753ms/step - loss: 0.3517 - accuracy: 0.8506 - val_loss: 0.4774 - val_accuracy: 0.7838\n",
      "Epoch 20/75\n",
      "31/31 [==============================] - 25s 824ms/step - loss: 0.2839 - accuracy: 0.8876 - val_loss: 0.4268 - val_accuracy: 0.8323\n",
      "INFO:tensorflow:Assets written to: C:\\Users\\ferna\\Documents\\Insper\\IC\\measuringMacroNutrients\\iteration-7\\assets\n",
      "Epoch 21/75\n",
      "31/31 [==============================] - 23s 753ms/step - loss: 0.3386 - accuracy: 0.8445 - val_loss: 0.4547 - val_accuracy: 0.8101\n",
      "Epoch 22/75\n",
      "31/31 [==============================] - 25s 806ms/step - loss: 0.3475 - accuracy: 0.8403 - val_loss: 0.4075 - val_accuracy: 0.8263\n",
      "Epoch 23/75\n",
      "31/31 [==============================] - 24s 783ms/step - loss: 0.3298 - accuracy: 0.8559 - val_loss: 0.4054 - val_accuracy: 0.8222\n",
      "Epoch 24/75\n",
      "31/31 [==============================] - 23s 739ms/step - loss: 0.2914 - accuracy: 0.8642 - val_loss: 1.0257 - val_accuracy: 0.4949\n",
      "Epoch 25/75\n",
      "31/31 [==============================] - 21s 699ms/step - loss: 0.2772 - accuracy: 0.8848 - val_loss: 1.6089 - val_accuracy: 0.6404\n",
      "Epoch 26/75\n",
      "31/31 [==============================] - 21s 688ms/step - loss: 0.3121 - accuracy: 0.8703 - val_loss: 0.4003 - val_accuracy: 0.8343\n",
      "INFO:tensorflow:Assets written to: C:\\Users\\ferna\\Documents\\Insper\\IC\\measuringMacroNutrients\\iteration-7\\assets\n",
      "Epoch 27/75\n",
      "31/31 [==============================] - 21s 682ms/step - loss: 0.2809 - accuracy: 0.8775 - val_loss: 0.7739 - val_accuracy: 0.7172\n",
      "Epoch 28/75\n",
      "31/31 [==============================] - 22s 699ms/step - loss: 0.2982 - accuracy: 0.8805 - val_loss: 0.8303 - val_accuracy: 0.7434\n",
      "Epoch 29/75\n",
      "31/31 [==============================] - 22s 694ms/step - loss: 0.3047 - accuracy: 0.8742 - val_loss: 0.4584 - val_accuracy: 0.8162\n",
      "Epoch 30/75\n",
      "31/31 [==============================] - 21s 682ms/step - loss: 0.2602 - accuracy: 0.8998 - val_loss: 1.5103 - val_accuracy: 0.6404\n",
      "Epoch 31/75\n",
      "31/31 [==============================] - 23s 741ms/step - loss: 0.2524 - accuracy: 0.8953 - val_loss: 0.5366 - val_accuracy: 0.8101\n",
      "Epoch 32/75\n",
      "31/31 [==============================] - 23s 726ms/step - loss: 0.2329 - accuracy: 0.8976 - val_loss: 0.5922 - val_accuracy: 0.7798\n",
      "Epoch 33/75\n",
      "31/31 [==============================] - 22s 712ms/step - loss: 0.2425 - accuracy: 0.9037 - val_loss: 0.4751 - val_accuracy: 0.8283\n",
      "Epoch 34/75\n",
      "31/31 [==============================] - 22s 720ms/step - loss: 0.2658 - accuracy: 0.8922 - val_loss: 0.4176 - val_accuracy: 0.8525\n",
      "INFO:tensorflow:Assets written to: C:\\Users\\ferna\\Documents\\Insper\\IC\\measuringMacroNutrients\\iteration-7\\assets\n",
      "Epoch 35/75\n",
      "31/31 [==============================] - 22s 713ms/step - loss: 0.2794 - accuracy: 0.8857 - val_loss: 0.3999 - val_accuracy: 0.8323\n",
      "Epoch 36/75\n",
      "31/31 [==============================] - 22s 697ms/step - loss: 0.2473 - accuracy: 0.8823 - val_loss: 0.4002 - val_accuracy: 0.8545\n",
      "INFO:tensorflow:Assets written to: C:\\Users\\ferna\\Documents\\Insper\\IC\\measuringMacroNutrients\\iteration-7\\assets\n",
      "Epoch 37/75\n",
      "31/31 [==============================] - 23s 732ms/step - loss: 0.2276 - accuracy: 0.8948 - val_loss: 0.4692 - val_accuracy: 0.8323\n",
      "Epoch 38/75\n",
      "31/31 [==============================] - 23s 754ms/step - loss: 0.2502 - accuracy: 0.8982 - val_loss: 0.7087 - val_accuracy: 0.7556\n",
      "Epoch 39/75\n",
      "31/31 [==============================] - 21s 694ms/step - loss: 0.2971 - accuracy: 0.8637 - val_loss: 0.6062 - val_accuracy: 0.7333\n",
      "Epoch 40/75\n",
      "31/31 [==============================] - 21s 689ms/step - loss: 0.2591 - accuracy: 0.8853 - val_loss: 0.9392 - val_accuracy: 0.7394\n",
      "Epoch 41/75\n",
      "31/31 [==============================] - 22s 715ms/step - loss: 0.2170 - accuracy: 0.9150 - val_loss: 1.0968 - val_accuracy: 0.7010\n",
      "Epoch 42/75\n",
      "31/31 [==============================] - 23s 731ms/step - loss: 0.2154 - accuracy: 0.9190 - val_loss: 0.9431 - val_accuracy: 0.7030\n",
      "Epoch 43/75\n",
      "31/31 [==============================] - 23s 731ms/step - loss: 0.2242 - accuracy: 0.9120 - val_loss: 0.4016 - val_accuracy: 0.8727\n",
      "INFO:tensorflow:Assets written to: C:\\Users\\ferna\\Documents\\Insper\\IC\\measuringMacroNutrients\\iteration-7\\assets\n",
      "Epoch 44/75\n",
      "31/31 [==============================] - 22s 724ms/step - loss: 0.2130 - accuracy: 0.9098 - val_loss: 0.3483 - val_accuracy: 0.8444\n",
      "Epoch 45/75\n",
      "31/31 [==============================] - 23s 749ms/step - loss: 0.2132 - accuracy: 0.9202 - val_loss: 0.4486 - val_accuracy: 0.8222\n",
      "Epoch 46/75\n",
      "31/31 [==============================] - 23s 753ms/step - loss: 0.2175 - accuracy: 0.9156 - val_loss: 0.4912 - val_accuracy: 0.8242\n",
      "Epoch 47/75\n",
      "31/31 [==============================] - 23s 745ms/step - loss: 0.2560 - accuracy: 0.8964 - val_loss: 0.4186 - val_accuracy: 0.8121\n",
      "Epoch 48/75\n",
      "31/31 [==============================] - 23s 733ms/step - loss: 0.1920 - accuracy: 0.9341 - val_loss: 0.3617 - val_accuracy: 0.8586\n",
      "Epoch 49/75\n",
      "31/31 [==============================] - 23s 731ms/step - loss: 0.2032 - accuracy: 0.9274 - val_loss: 0.5871 - val_accuracy: 0.8020\n",
      "Epoch 50/75\n",
      "31/31 [==============================] - 23s 735ms/step - loss: 0.2247 - accuracy: 0.9087 - val_loss: 1.0012 - val_accuracy: 0.6990\n",
      "Epoch 51/75\n",
      "31/31 [==============================] - 23s 752ms/step - loss: 0.1851 - accuracy: 0.9276 - val_loss: 0.5918 - val_accuracy: 0.8343\n",
      "Epoch 52/75\n"
     ]
    },
    {
     "name": "stdout",
     "output_type": "stream",
     "text": [
      "31/31 [==============================] - 23s 758ms/step - loss: 0.2059 - accuracy: 0.9213 - val_loss: 0.4519 - val_accuracy: 0.8465\n",
      "Epoch 53/75\n",
      "31/31 [==============================] - 23s 739ms/step - loss: 0.2173 - accuracy: 0.9131 - val_loss: 0.5961 - val_accuracy: 0.8020\n",
      "Epoch 54/75\n",
      "31/31 [==============================] - 22s 723ms/step - loss: 0.1889 - accuracy: 0.9232 - val_loss: 0.9712 - val_accuracy: 0.7030\n",
      "Epoch 55/75\n",
      "31/31 [==============================] - 22s 713ms/step - loss: 0.1825 - accuracy: 0.9203 - val_loss: 0.3431 - val_accuracy: 0.8869\n",
      "INFO:tensorflow:Assets written to: C:\\Users\\ferna\\Documents\\Insper\\IC\\measuringMacroNutrients\\iteration-7\\assets\n",
      "Epoch 56/75\n",
      "31/31 [==============================] - 22s 720ms/step - loss: 0.1869 - accuracy: 0.9227 - val_loss: 0.7684 - val_accuracy: 0.7111\n",
      "Epoch 57/75\n",
      "31/31 [==============================] - 22s 717ms/step - loss: 0.1914 - accuracy: 0.9267 - val_loss: 0.4654 - val_accuracy: 0.8505\n",
      "Epoch 58/75\n",
      "31/31 [==============================] - 23s 727ms/step - loss: 0.1700 - accuracy: 0.9178 - val_loss: 0.9582 - val_accuracy: 0.7455\n",
      "Epoch 59/75\n",
      "31/31 [==============================] - 22s 722ms/step - loss: 0.2494 - accuracy: 0.8963 - val_loss: 0.5831 - val_accuracy: 0.8202\n",
      "Epoch 60/75\n",
      "31/31 [==============================] - 22s 725ms/step - loss: 0.2212 - accuracy: 0.9098 - val_loss: 1.4870 - val_accuracy: 0.7313\n",
      "Epoch 61/75\n",
      "31/31 [==============================] - 22s 725ms/step - loss: 0.2150 - accuracy: 0.9060 - val_loss: 0.6037 - val_accuracy: 0.8162\n",
      "Epoch 62/75\n",
      "31/31 [==============================] - 23s 753ms/step - loss: 0.1612 - accuracy: 0.9370 - val_loss: 0.5370 - val_accuracy: 0.8141\n",
      "Epoch 63/75\n",
      "31/31 [==============================] - 23s 736ms/step - loss: 0.1632 - accuracy: 0.9400 - val_loss: 0.8572 - val_accuracy: 0.7899\n",
      "Epoch 64/75\n",
      "31/31 [==============================] - 23s 740ms/step - loss: 0.1757 - accuracy: 0.9348 - val_loss: 0.4312 - val_accuracy: 0.8747\n",
      "Epoch 65/75\n",
      "31/31 [==============================] - 22s 711ms/step - loss: 0.1490 - accuracy: 0.9379 - val_loss: 0.5956 - val_accuracy: 0.8182\n",
      "Epoch 66/75\n",
      "31/31 [==============================] - 22s 715ms/step - loss: 0.2069 - accuracy: 0.9170 - val_loss: 0.6507 - val_accuracy: 0.7859\n",
      "Epoch 67/75\n",
      "31/31 [==============================] - 24s 782ms/step - loss: 0.1638 - accuracy: 0.9402 - val_loss: 0.3978 - val_accuracy: 0.8485\n",
      "Epoch 68/75\n",
      "31/31 [==============================] - 24s 763ms/step - loss: 0.1464 - accuracy: 0.9510 - val_loss: 0.5496 - val_accuracy: 0.8242\n",
      "Epoch 69/75\n",
      "31/31 [==============================] - 26s 822ms/step - loss: 0.1832 - accuracy: 0.9160 - val_loss: 0.4616 - val_accuracy: 0.8444\n",
      "Epoch 70/75\n",
      "31/31 [==============================] - 24s 776ms/step - loss: 0.1484 - accuracy: 0.9403 - val_loss: 0.4316 - val_accuracy: 0.8606\n",
      "Epoch 71/75\n",
      "31/31 [==============================] - 23s 755ms/step - loss: 0.1994 - accuracy: 0.9176 - val_loss: 0.4622 - val_accuracy: 0.8606\n",
      "Epoch 72/75\n",
      "31/31 [==============================] - 23s 751ms/step - loss: 0.1337 - accuracy: 0.9431 - val_loss: 0.4390 - val_accuracy: 0.8505\n",
      "Epoch 73/75\n",
      "31/31 [==============================] - 24s 791ms/step - loss: 0.1628 - accuracy: 0.9264 - val_loss: 1.0920 - val_accuracy: 0.7232\n",
      "Epoch 74/75\n",
      "31/31 [==============================] - 22s 717ms/step - loss: 0.1560 - accuracy: 0.9400 - val_loss: 0.5660 - val_accuracy: 0.8000\n",
      "Epoch 75/75\n",
      "31/31 [==============================] - 23s 736ms/step - loss: 0.1369 - accuracy: 0.9407 - val_loss: 0.5382 - val_accuracy: 0.8283\n"
     ]
    }
   ],
   "source": [
    "# initialize our initial learning rate, # of epochs to train for,\n",
    "# and batch size\n",
    "INIT_LR = 0.01\n",
    "EPOCHS = 75\n",
    "BS = 32\n",
    "# initialize the model and optimizer (you'll want to use\n",
    "# binary_crossentropy for 2-class classification)\n",
    "print(\"[INFO] training network...\")\n",
    "opt = SGD(lr=INIT_LR, decay=INIT_LR / EPOCHS)\n",
    "model.compile(loss=\"categorical_crossentropy\", optimizer=\"adam\", metrics=[\"accuracy\"])\n",
    "\n",
    "#save the best epoch\n",
    "model_checkpoint = tf.keras.callbacks.ModelCheckpoint(\n",
    "    filepath = r'C:\\Users\\ferna\\Documents\\Insper\\IC\\measuringMacroNutrients\\iteration-7',\n",
    "    monitor='val_accuracy',\n",
    "    mode='max',\n",
    "    save_best_only=True)\n",
    "\n",
    "# train the network\n",
    "H = model.fit(x=aug.flow(train_x, train_y, batch_size=BS),\n",
    "              validation_data=(test_x, test_y),\n",
    "              steps_per_epoch=len(train_x) // BS, \n",
    "              epochs=EPOCHS,\n",
    "              callbacks=[model_checkpoint]\n",
    "             )"
   ]
  },
  {
   "cell_type": "code",
   "execution_count": 20,
   "metadata": {},
   "outputs": [
    {
     "data": {
      "text/plain": [
       "0.8868687152862549"
      ]
     },
     "execution_count": 20,
     "metadata": {},
     "output_type": "execute_result"
    }
   ],
   "source": [
    "max(H.history[\"val_accuracy\"])"
   ]
  },
  {
   "cell_type": "code",
   "execution_count": 9,
   "metadata": {},
   "outputs": [
    {
     "name": "stdout",
     "output_type": "stream",
     "text": [
      "[INFO] evaluating network...\n"
     ]
    },
    {
     "data": {
      "image/png": "[encoded data removed]",
      "text/plain": [
       "<Figure size 432x288 with 1 Axes>"
      ]
     },
     "metadata": {},
     "output_type": "display_data"
    }
   ],
   "source": [
    "# evaluate the network\n",
    "print(\"[INFO] evaluating network...\")\n",
    "predictions = model.predict(x=test_x, batch_size=32)\n",
    "##print(classification_report(test_y.argmax(axis=1), predictions.argmax(axis=1), target_names=lb.classes_))\n",
    "# plot the training loss and accuracy\n",
    "N = np.arange(0, EPOCHS)\n",
    "plt.style.use(\"ggplot\")\n",
    "plt.figure()\n",
    "plt.plot(N, H.history[\"loss\"], label=\"train_loss\")\n",
    "#plt.plot(N, H.history[\"val_loss\"], label=\"val_loss\")\n",
    "#plt.plot(N, H.history[\"accuracy\"], label=\"train_acc\")\n",
    "plt.plot(N, H.history[\"val_accuracy\"], label=\"val_acc\")\n",
    "plt.title(\"Training Loss and Accuracy (SmallVGGNet)\")\n",
    "plt.xlabel(\"Epoch #\")\n",
    "plt.ylabel(\"Loss/Accuracy\")\n",
    "plt.legend()\n",
    "plt.show()"
   ]
  },
  {
   "cell_type": "code",
   "execution_count": null,
   "metadata": {},
   "outputs": [],
   "source": []
  }
 ],
 "metadata": {
  "kernelspec": {
   "display_name": "Python 3",
   "language": "python",
   "name": "python3"
  },
  "language_info": {
   "codemirror_mode": {
    "name": "ipython",
    "version": 3
   },
   "file_extension": ".py",
   "mimetype": "text/x-python",
   "name": "python",
   "nbconvert_exporter": "python",
   "pygments_lexer": "ipython3",
   "version": "3.8.3"
  }
 },
 "nbformat": 4,
 "nbformat_minor": 4
}
