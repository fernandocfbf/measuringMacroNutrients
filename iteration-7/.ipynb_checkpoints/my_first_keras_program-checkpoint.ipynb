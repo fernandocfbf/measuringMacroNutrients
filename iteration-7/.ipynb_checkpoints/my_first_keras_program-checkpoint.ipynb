{
 "cells": [
  {
   "cell_type": "markdown",
   "metadata": {},
   "source": [
    "## Import libraries\n",
    "---"
   ]
  },
  {
   "cell_type": "code",
   "execution_count": 1,
   "metadata": {},
   "outputs": [],
   "source": [
    "# set the matplotlib backend so figures can be saved in the background\n",
    "import matplotlib.pyplot as plt\n",
    "# import the necessary packages\n",
    "from sklearn.preprocessing import LabelBinarizer\n",
    "from sklearn.model_selection import train_test_split\n",
    "from sklearn.metrics import classification_report\n",
    "from tensorflow.keras.models import Sequential\n",
    "from tensorflow.keras.layers import Dense\n",
    "from tensorflow.keras.optimizers import SGD\n",
    "import matplotlib.pyplot as plt\n",
    "import numpy as np\n",
    "import argparse\n",
    "import random\n",
    "import pickle\n",
    "import cv2\n",
    "import os\n",
    "from dnn_app_utils import *"
   ]
  },
  {
   "cell_type": "markdown",
   "metadata": {},
   "source": [
    "## Load pizza images\n",
    "---"
   ]
  },
  {
   "cell_type": "code",
   "execution_count": 2,
   "metadata": {
    "scrolled": true
   },
   "outputs": [
    {
     "name": "stderr",
     "output_type": "stream",
     "text": [
      "973it [00:02, 328.49it/s]\n",
      "525it [00:01, 396.38it/s]\n"
     ]
    }
   ],
   "source": [
    "x, y = load_data()"
   ]
  },
  {
   "cell_type": "code",
   "execution_count": 4,
   "metadata": {},
   "outputs": [],
   "source": [
    "train_x, test_x, train_y, test_y =  train_test_split(x, y, test_size=0.33, random_state=84)"
   ]
  },
  {
   "cell_type": "markdown",
   "metadata": {},
   "source": [
    "## Define the neural-network architecture\n",
    "---"
   ]
  },
  {
   "cell_type": "code",
   "execution_count": 5,
   "metadata": {},
   "outputs": [],
   "source": [
    "lb = LabelBinarizer()\n",
    "train_y = lb.fit_transform(train_y)\n",
    "test_y = lb.transform(test_y)"
   ]
  },
  {
   "cell_type": "code",
   "execution_count": 6,
   "metadata": {},
   "outputs": [],
   "source": [
    "model = Sequential()\n",
    "\n",
    "#The first hidden layer will have 1024 nodes and the input layer 3072.\n",
    "model.add(Dense(1024, input_shape=(32*32*3,), activation=\"sigmoid\"))\n",
    "model.add(Dense(512, activation=\"sigmoid\"))\n",
    "model.add(Dense(len(lb.classes_), activation=\"softmax\"))"
   ]
  },
  {
   "cell_type": "markdown",
   "metadata": {},
   "source": [
    "## Creating the model\n",
    "---"
   ]
  },
  {
   "cell_type": "code",
   "execution_count": 7,
   "metadata": {},
   "outputs": [
    {
     "name": "stdout",
     "output_type": "stream",
     "text": [
      "[INFO] training network...\n"
     ]
    }
   ],
   "source": [
    "# initialize our initial learning rate and # of epochs to train for\n",
    "INIT_LR = 0.01\n",
    "EPOCHS = 80\n",
    "\n",
    "# compile the model using SGD as our optimizer and categorical\n",
    "# cross-entropy loss (you'll want to use binary_crossentropy\n",
    "# for 2-class classification)\n",
    "print(\"[INFO] training network...\")\n",
    "opt = SGD(lr=INIT_LR)\n",
    "model.compile(loss=\"categorical_crossentropy\", optimizer=opt, metrics=[\"accuracy\"])"
   ]
  },
  {
   "cell_type": "code",
   "execution_count": 8,
   "metadata": {},
   "outputs": [
    {
     "data": {
      "text/plain": [
       "(1003, 3072)"
      ]
     },
     "execution_count": 8,
     "metadata": {},
     "output_type": "execute_result"
    }
   ],
   "source": [
    "train_x.shape"
   ]
  },
  {
   "cell_type": "code",
   "execution_count": 9,
   "metadata": {},
   "outputs": [
    {
     "data": {
      "text/plain": [
       "(1003, 2)"
      ]
     },
     "execution_count": 9,
     "metadata": {},
     "output_type": "execute_result"
    }
   ],
   "source": [
    "train_y.shape"
   ]
  },
  {
   "cell_type": "code",
   "execution_count": 10,
   "metadata": {},
   "outputs": [
    {
     "name": "stdout",
     "output_type": "stream",
     "text": [
      "Epoch 1/80\n",
      "32/32 [==============================] - 2s 58ms/step - loss: 0.6607 - accuracy: 0.6520 - val_loss: 0.7030 - val_accuracy: 0.6263\n",
      "Epoch 2/80\n",
      "32/32 [==============================] - 1s 21ms/step - loss: 0.6731 - accuracy: 0.6388 - val_loss: 0.7824 - val_accuracy: 0.6263\n",
      "Epoch 3/80\n",
      "32/32 [==============================] - 1s 21ms/step - loss: 0.6558 - accuracy: 0.6549 - val_loss: 0.6546 - val_accuracy: 0.6263\n",
      "Epoch 4/80\n",
      "32/32 [==============================] - 1s 21ms/step - loss: 0.6303 - accuracy: 0.6744 - val_loss: 0.6648 - val_accuracy: 0.6263\n",
      "Epoch 5/80\n",
      "32/32 [==============================] - 1s 20ms/step - loss: 0.6463 - accuracy: 0.6556 - val_loss: 0.6546 - val_accuracy: 0.6263\n",
      "Epoch 6/80\n",
      "32/32 [==============================] - 1s 21ms/step - loss: 0.6436 - accuracy: 0.6479 - val_loss: 0.6633 - val_accuracy: 0.6263\n",
      "Epoch 7/80\n",
      "32/32 [==============================] - 1s 20ms/step - loss: 0.6402 - accuracy: 0.6501 - val_loss: 0.6842 - val_accuracy: 0.5576\n",
      "Epoch 8/80\n",
      "32/32 [==============================] - 1s 22ms/step - loss: 0.6349 - accuracy: 0.6356 - val_loss: 0.6537 - val_accuracy: 0.6263\n",
      "Epoch 9/80\n",
      "32/32 [==============================] - 1s 22ms/step - loss: 0.6398 - accuracy: 0.6594 - val_loss: 0.6423 - val_accuracy: 0.6202\n",
      "Epoch 10/80\n",
      "32/32 [==============================] - 1s 22ms/step - loss: 0.6314 - accuracy: 0.6666 - val_loss: 0.6816 - val_accuracy: 0.6263\n",
      "Epoch 11/80\n",
      "32/32 [==============================] - 1s 20ms/step - loss: 0.6350 - accuracy: 0.6494 - val_loss: 0.6418 - val_accuracy: 0.6263\n",
      "Epoch 12/80\n",
      "32/32 [==============================] - 1s 21ms/step - loss: 0.6289 - accuracy: 0.6681 - val_loss: 0.6803 - val_accuracy: 0.6263\n",
      "Epoch 13/80\n",
      "32/32 [==============================] - 1s 22ms/step - loss: 0.6129 - accuracy: 0.6827 - val_loss: 0.6360 - val_accuracy: 0.6263\n",
      "Epoch 14/80\n",
      "32/32 [==============================] - 1s 21ms/step - loss: 0.5997 - accuracy: 0.6800 - val_loss: 0.6241 - val_accuracy: 0.6222\n",
      "Epoch 15/80\n",
      "32/32 [==============================] - 1s 20ms/step - loss: 0.6179 - accuracy: 0.6442 - val_loss: 0.6909 - val_accuracy: 0.6263\n",
      "Epoch 16/80\n",
      "32/32 [==============================] - 1s 21ms/step - loss: 0.5976 - accuracy: 0.6710 - val_loss: 0.6332 - val_accuracy: 0.6263\n",
      "Epoch 17/80\n",
      "32/32 [==============================] - 1s 20ms/step - loss: 0.6139 - accuracy: 0.6649 - val_loss: 0.6173 - val_accuracy: 0.6465\n",
      "Epoch 18/80\n",
      "32/32 [==============================] - 1s 20ms/step - loss: 0.5940 - accuracy: 0.6870 - val_loss: 0.6274 - val_accuracy: 0.7253\n",
      "Epoch 19/80\n",
      "32/32 [==============================] - 1s 21ms/step - loss: 0.6075 - accuracy: 0.6905 - val_loss: 0.6206 - val_accuracy: 0.6263\n",
      "Epoch 20/80\n",
      "32/32 [==============================] - 1s 23ms/step - loss: 0.6040 - accuracy: 0.6666 - val_loss: 0.6144 - val_accuracy: 0.6263\n",
      "Epoch 21/80\n",
      "32/32 [==============================] - 1s 20ms/step - loss: 0.5949 - accuracy: 0.6735 - val_loss: 0.6450 - val_accuracy: 0.6263\n",
      "Epoch 22/80\n",
      "32/32 [==============================] - 1s 21ms/step - loss: 0.5997 - accuracy: 0.6743 - val_loss: 0.7269 - val_accuracy: 0.6263\n",
      "Epoch 23/80\n",
      "32/32 [==============================] - 1s 20ms/step - loss: 0.6058 - accuracy: 0.6731 - val_loss: 0.6072 - val_accuracy: 0.7111\n",
      "Epoch 24/80\n",
      "32/32 [==============================] - 1s 21ms/step - loss: 0.5838 - accuracy: 0.6826 - val_loss: 0.6143 - val_accuracy: 0.6263\n",
      "Epoch 25/80\n",
      "32/32 [==============================] - 1s 21ms/step - loss: 0.5630 - accuracy: 0.6979 - val_loss: 0.6221 - val_accuracy: 0.6263\n",
      "Epoch 26/80\n",
      "32/32 [==============================] - 1s 20ms/step - loss: 0.5861 - accuracy: 0.6996 - val_loss: 0.5972 - val_accuracy: 0.6323\n",
      "Epoch 27/80\n",
      "32/32 [==============================] - 1s 23ms/step - loss: 0.5837 - accuracy: 0.6923 - val_loss: 0.6090 - val_accuracy: 0.7232\n",
      "Epoch 28/80\n",
      "32/32 [==============================] - 1s 21ms/step - loss: 0.5981 - accuracy: 0.6785 - val_loss: 0.5929 - val_accuracy: 0.7253\n",
      "Epoch 29/80\n",
      "32/32 [==============================] - 1s 22ms/step - loss: 0.5676 - accuracy: 0.6890 - val_loss: 0.5932 - val_accuracy: 0.6384\n",
      "Epoch 30/80\n",
      "32/32 [==============================] - 1s 22ms/step - loss: 0.5921 - accuracy: 0.6682 - val_loss: 0.6720 - val_accuracy: 0.6263\n",
      "Epoch 31/80\n",
      "32/32 [==============================] - 1s 22ms/step - loss: 0.5946 - accuracy: 0.6747 - val_loss: 0.6209 - val_accuracy: 0.6242\n",
      "Epoch 32/80\n",
      "32/32 [==============================] - 1s 25ms/step - loss: 0.5688 - accuracy: 0.6997 - val_loss: 0.5813 - val_accuracy: 0.6747\n",
      "Epoch 33/80\n",
      "32/32 [==============================] - 1s 22ms/step - loss: 0.5536 - accuracy: 0.7180 - val_loss: 0.5969 - val_accuracy: 0.6364\n",
      "Epoch 34/80\n",
      "32/32 [==============================] - ETA: 0s - loss: 0.5644 - accuracy: 0.71 - 1s 22ms/step - loss: 0.5641 - accuracy: 0.7106 - val_loss: 0.5762 - val_accuracy: 0.6747\n",
      "Epoch 35/80\n",
      "32/32 [==============================] - 1s 22ms/step - loss: 0.5610 - accuracy: 0.6981 - val_loss: 0.5804 - val_accuracy: 0.7333\n",
      "Epoch 36/80\n",
      "32/32 [==============================] - 1s 22ms/step - loss: 0.5633 - accuracy: 0.7087 - val_loss: 0.5725 - val_accuracy: 0.6727\n",
      "Epoch 37/80\n",
      "32/32 [==============================] - 1s 23ms/step - loss: 0.5514 - accuracy: 0.7330 - val_loss: 0.6042 - val_accuracy: 0.6303\n",
      "Epoch 38/80\n",
      "32/32 [==============================] - 1s 24ms/step - loss: 0.5577 - accuracy: 0.6936 - val_loss: 0.5683 - val_accuracy: 0.7333\n",
      "Epoch 39/80\n",
      "32/32 [==============================] - 1s 23ms/step - loss: 0.5342 - accuracy: 0.7398 - val_loss: 0.6801 - val_accuracy: 0.5838\n",
      "Epoch 40/80\n",
      "32/32 [==============================] - 1s 24ms/step - loss: 0.5723 - accuracy: 0.7018 - val_loss: 0.5671 - val_accuracy: 0.6747\n",
      "Epoch 41/80\n",
      "32/32 [==============================] - 1s 23ms/step - loss: 0.5547 - accuracy: 0.7149 - val_loss: 0.5738 - val_accuracy: 0.6707\n",
      "Epoch 42/80\n",
      "32/32 [==============================] - 1s 24ms/step - loss: 0.5351 - accuracy: 0.7054 - val_loss: 0.5795 - val_accuracy: 0.7212\n",
      "Epoch 43/80\n",
      "32/32 [==============================] - 1s 24ms/step - loss: 0.5399 - accuracy: 0.7336 - val_loss: 0.5897 - val_accuracy: 0.6525\n",
      "Epoch 44/80\n",
      "32/32 [==============================] - 1s 22ms/step - loss: 0.5307 - accuracy: 0.7466 - val_loss: 0.5816 - val_accuracy: 0.6606\n",
      "Epoch 45/80\n",
      "32/32 [==============================] - 1s 22ms/step - loss: 0.5302 - accuracy: 0.7286 - val_loss: 0.5583 - val_accuracy: 0.7374\n",
      "Epoch 46/80\n",
      "32/32 [==============================] - 1s 23ms/step - loss: 0.5407 - accuracy: 0.7467 - val_loss: 0.5553 - val_accuracy: 0.7414\n",
      "Epoch 47/80\n",
      "32/32 [==============================] - 1s 23ms/step - loss: 0.5246 - accuracy: 0.7382 - val_loss: 0.5618 - val_accuracy: 0.6788\n",
      "Epoch 48/80\n",
      "32/32 [==============================] - 1s 22ms/step - loss: 0.5441 - accuracy: 0.7343 - val_loss: 0.5700 - val_accuracy: 0.6707\n",
      "Epoch 49/80\n",
      "32/32 [==============================] - 1s 25ms/step - loss: 0.5418 - accuracy: 0.7299 - val_loss: 0.5848 - val_accuracy: 0.6586\n",
      "Epoch 50/80\n",
      "32/32 [==============================] - 1s 24ms/step - loss: 0.5517 - accuracy: 0.7080 - val_loss: 0.5730 - val_accuracy: 0.7172\n",
      "Epoch 51/80\n",
      "32/32 [==============================] - 1s 24ms/step - loss: 0.5499 - accuracy: 0.7035 - val_loss: 0.6099 - val_accuracy: 0.6465\n",
      "Epoch 52/80\n",
      "32/32 [==============================] - 1s 23ms/step - loss: 0.5045 - accuracy: 0.7422 - val_loss: 0.6179 - val_accuracy: 0.6505\n",
      "Epoch 53/80\n",
      "32/32 [==============================] - 1s 24ms/step - loss: 0.5388 - accuracy: 0.7288 - val_loss: 0.5566 - val_accuracy: 0.7374\n",
      "Epoch 54/80\n",
      "32/32 [==============================] - 1s 24ms/step - loss: 0.5086 - accuracy: 0.7403 - val_loss: 0.5578 - val_accuracy: 0.6848\n",
      "Epoch 55/80\n",
      "32/32 [==============================] - 1s 22ms/step - loss: 0.5298 - accuracy: 0.7386 - val_loss: 0.5472 - val_accuracy: 0.7455\n",
      "Epoch 56/80\n",
      "32/32 [==============================] - 1s 24ms/step - loss: 0.5230 - accuracy: 0.7500 - val_loss: 0.5805 - val_accuracy: 0.6667\n",
      "Epoch 57/80\n",
      "32/32 [==============================] - 1s 23ms/step - loss: 0.5171 - accuracy: 0.7350 - val_loss: 0.6846 - val_accuracy: 0.6141\n",
      "Epoch 58/80\n",
      "32/32 [==============================] - 1s 23ms/step - loss: 0.5707 - accuracy: 0.6987 - val_loss: 0.5453 - val_accuracy: 0.7455\n",
      "Epoch 59/80\n",
      "32/32 [==============================] - 1s 23ms/step - loss: 0.5279 - accuracy: 0.7428 - val_loss: 0.5498 - val_accuracy: 0.7071\n",
      "Epoch 60/80\n",
      "32/32 [==============================] - 1s 23ms/step - loss: 0.5170 - accuracy: 0.7384 - val_loss: 0.5469 - val_accuracy: 0.7131\n",
      "Epoch 61/80\n",
      "32/32 [==============================] - 1s 24ms/step - loss: 0.5431 - accuracy: 0.7313 - val_loss: 0.5422 - val_accuracy: 0.7354\n",
      "Epoch 62/80\n",
      "32/32 [==============================] - 1s 24ms/step - loss: 0.5137 - accuracy: 0.7447 - val_loss: 0.5509 - val_accuracy: 0.7333\n",
      "Epoch 63/80\n",
      "32/32 [==============================] - 1s 21ms/step - loss: 0.5058 - accuracy: 0.7487 - val_loss: 0.5744 - val_accuracy: 0.6768\n",
      "Epoch 64/80\n",
      "32/32 [==============================] - 1s 22ms/step - loss: 0.5312 - accuracy: 0.7362 - val_loss: 0.5475 - val_accuracy: 0.7152\n",
      "Epoch 65/80\n",
      "32/32 [==============================] - 1s 23ms/step - loss: 0.5389 - accuracy: 0.7228 - val_loss: 0.6566 - val_accuracy: 0.6384\n",
      "Epoch 66/80\n",
      "32/32 [==============================] - 1s 25ms/step - loss: 0.5591 - accuracy: 0.7376 - val_loss: 0.6643 - val_accuracy: 0.6384\n",
      "Epoch 67/80\n",
      "32/32 [==============================] - 1s 22ms/step - loss: 0.4935 - accuracy: 0.7426 - val_loss: 0.5571 - val_accuracy: 0.7293\n",
      "Epoch 68/80\n",
      "32/32 [==============================] - 1s 23ms/step - loss: 0.5407 - accuracy: 0.7516 - val_loss: 0.5716 - val_accuracy: 0.6788\n",
      "Epoch 69/80\n",
      "32/32 [==============================] - 1s 22ms/step - loss: 0.5079 - accuracy: 0.7596 - val_loss: 0.5456 - val_accuracy: 0.7414\n",
      "Epoch 70/80\n",
      "32/32 [==============================] - 1s 22ms/step - loss: 0.5135 - accuracy: 0.7575 - val_loss: 0.5383 - val_accuracy: 0.7414\n",
      "Epoch 71/80\n",
      "32/32 [==============================] - 1s 22ms/step - loss: 0.4996 - accuracy: 0.7545 - val_loss: 0.5386 - val_accuracy: 0.7455\n",
      "Epoch 72/80\n",
      "32/32 [==============================] - 1s 25ms/step - loss: 0.5150 - accuracy: 0.7397 - val_loss: 0.5665 - val_accuracy: 0.6828\n",
      "Epoch 73/80\n",
      "32/32 [==============================] - 1s 24ms/step - loss: 0.5093 - accuracy: 0.7632 - val_loss: 0.5411 - val_accuracy: 0.7414\n",
      "Epoch 74/80\n",
      "32/32 [==============================] - 1s 22ms/step - loss: 0.4965 - accuracy: 0.7640 - val_loss: 0.5570 - val_accuracy: 0.7333\n",
      "Epoch 75/80\n",
      "32/32 [==============================] - 1s 25ms/step - loss: 0.4850 - accuracy: 0.7852 - val_loss: 0.5637 - val_accuracy: 0.7253\n",
      "Epoch 76/80\n",
      "32/32 [==============================] - 1s 23ms/step - loss: 0.5119 - accuracy: 0.7536 - val_loss: 0.5408 - val_accuracy: 0.7354\n",
      "Epoch 77/80\n",
      "32/32 [==============================] - 1s 24ms/step - loss: 0.4949 - accuracy: 0.7769 - val_loss: 0.5352 - val_accuracy: 0.7455\n",
      "Epoch 78/80\n",
      "32/32 [==============================] - 1s 24ms/step - loss: 0.5114 - accuracy: 0.7590 - val_loss: 0.5946 - val_accuracy: 0.6646\n",
      "Epoch 79/80\n",
      "32/32 [==============================] - 1s 24ms/step - loss: 0.4943 - accuracy: 0.7694 - val_loss: 0.5409 - val_accuracy: 0.7374\n",
      "Epoch 80/80\n",
      "32/32 [==============================] - 1s 25ms/step - loss: 0.4975 - accuracy: 0.7712 - val_loss: 0.5752 - val_accuracy: 0.6828\n"
     ]
    }
   ],
   "source": [
    "H = model.fit(x= train_x, y=train_y, validation_data=(test_x, test_y), epochs=EPOCHS, batch_size=32)"
   ]
  },
  {
   "cell_type": "code",
   "execution_count": 13,
   "metadata": {},
   "outputs": [
    {
     "name": "stdout",
     "output_type": "stream",
     "text": [
      "[INFO] evaluating network...\n"
     ]
    },
    {
     "data": {
      "image/png": "[encoded data removed]",
      "text/plain": [
       "<Figure size 432x288 with 1 Axes>"
      ]
     },
     "metadata": {},
     "output_type": "display_data"
    }
   ],
   "source": [
    "print(\"[INFO] evaluating network...\")\n",
    "predictions = model.predict(x=test_x, batch_size=32)\n",
    "\n",
    "# plot the training loss and accuracy\n",
    "N = np.arange(0, EPOCHS)\n",
    "plt.style.use(\"ggplot\")\n",
    "plt.figure()\n",
    "plt.plot(N, H.history[\"loss\"], label=\"train_loss\")\n",
    "plt.plot(N, H.history[\"val_loss\"], label=\"val_loss\")\n",
    "plt.plot(N, H.history[\"accuracy\"], label=\"train_acc\")\n",
    "plt.plot(N, H.history[\"val_accuracy\"], label=\"val_acc\")\n",
    "plt.title(\"Training Loss and Accuracy (Simple NN)\")\n",
    "plt.xlabel(\"Epoch #\")\n",
    "plt.ylabel(\"Loss/Accuracy\")\n",
    "plt.legend()\n",
    "plt.show()"
   ]
  },
  {
   "cell_type": "code",
   "execution_count": null,
   "metadata": {},
   "outputs": [],
   "source": []
  },
  {
   "cell_type": "code",
   "execution_count": null,
   "metadata": {},
   "outputs": [],
   "source": []
  }
 ],
 "metadata": {
  "kernelspec": {
   "display_name": "Python 3",
   "language": "python",
   "name": "python3"
  },
  "language_info": {
   "codemirror_mode": {
    "name": "ipython",
    "version": 3
   },
   "file_extension": ".py",
   "mimetype": "text/x-python",
   "name": "python",
   "nbconvert_exporter": "python",
   "pygments_lexer": "ipython3",
   "version": "3.8.3"
  }
 },
 "nbformat": 4,
 "nbformat_minor": 4
}
