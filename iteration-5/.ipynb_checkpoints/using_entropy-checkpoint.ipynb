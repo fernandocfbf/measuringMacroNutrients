{
 "cells": [
  {
   "cell_type": "code",
   "execution_count": 1,
   "metadata": {},
   "outputs": [],
   "source": [
    "import time\n",
    "import numpy as np\n",
    "import h5py\n",
    "import matplotlib.pyplot as plt\n",
    "import matplotlib.image as mpimg\n",
    "from matplotlib.pyplot import imread\n",
    "import scipy\n",
    "from skimage.transform import resize\n",
    "from PIL import Image\n",
    "from scipy import ndimage\n",
    "from dnn_app_utils import *\n",
    "from sklearn.model_selection import train_test_split\n",
    "import math\n",
    "import skimage.measure\n",
    "import cv2\n",
    "\n",
    "%matplotlib inline\n",
    "plt.rcParams['figure.figsize'] = (5.0, 4.0) # set default size of plots\n",
    "plt.rcParams['image.interpolation'] = 'nearest'\n",
    "plt.rcParams['image.cmap'] = 'gray'\n",
    "\n",
    "%load_ext autoreload\n",
    "%autoreload 2\n"
   ]
  },
  {
   "cell_type": "code",
   "execution_count": 2,
   "metadata": {
    "scrolled": false
   },
   "outputs": [
    {
     "name": "stderr",
     "output_type": "stream",
     "text": [
      "973it [00:45, 21.29it/s]\n",
      "525it [00:24, 21.73it/s]\n"
     ]
    }
   ],
   "source": [
    "x, y = load_data()"
   ]
  },
  {
   "cell_type": "code",
   "execution_count": 3,
   "metadata": {},
   "outputs": [],
   "source": [
    "#lists to storage the main images\n",
    "x_shannon_entropy = []\n",
    "\n",
    "for indice in range(len(x)):\n",
    "\n",
    "    #transform the image to a gray-scale image\n",
    "    gray_image = cv2.cvtColor(np.float32(x[indice]), cv2.COLOR_RGB2GRAY)\n",
    "\n",
    "    #computes the shannon entropy\n",
    "    entropy = skimage.measure.shannon_entropy(gray_image)\n",
    "    \n",
    "    x_shannon_entropy.append(entropy)"
   ]
  },
  {
   "cell_type": "code",
   "execution_count": 15,
   "metadata": {},
   "outputs": [],
   "source": [
    "import pandas as pd\n",
    "from scipy.stats import norm, uniform\n"
   ]
  },
  {
   "cell_type": "code",
   "execution_count": 17,
   "metadata": {},
   "outputs": [],
   "source": [
    "mean = pd.Series(x_shannon_entropy).mean()\n",
    "dp = np.std(x_shannon_entropy)"
   ]
  },
  {
   "cell_type": "code",
   "execution_count": 35,
   "metadata": {},
   "outputs": [
    {
     "data": {
      "image/png": "[encoded data removed]",
      "text/plain": [
       "<Figure size 360x288 with 1 Axes>"
      ]
     },
     "metadata": {
      "needs_background": "light"
     },
     "output_type": "display_data"
    }
   ],
   "source": [
    "x_ = np.linspace(10.7, 13, 10000)\n",
    "y_ = norm.pdf(x_, loc=mean, scale=dp)\n",
    "\n",
    "plt.plot(x_, y_)\n",
    "plt.grid(True)\n",
    "plt.title(\"Distribuição de X-barra\")\n",
    "plt.ylabel(\"Densidade de probabilidade\")\n",
    "plt.xlabel(\"Valores de entropia\")\n",
    "plt.show()"
   ]
  },
  {
   "cell_type": "code",
   "execution_count": 36,
   "metadata": {},
   "outputs": [
    {
     "data": {
      "text/plain": [
       "12.267082517051293"
      ]
     },
     "execution_count": 36,
     "metadata": {},
     "output_type": "execute_result"
    }
   ],
   "source": [
    "norm.ppf(0.9 ,loc=mean ,scale=dp)"
   ]
  },
  {
   "cell_type": "code",
   "execution_count": 37,
   "metadata": {},
   "outputs": [],
   "source": [
    "x_new = []\n",
    "for i in x_shannon_entropy:\n",
    "    if i <= 12.267082517051293:\n",
    "        x_new.append(i)"
   ]
  },
  {
   "cell_type": "code",
   "execution_count": 38,
   "metadata": {},
   "outputs": [
    {
     "data": {
      "text/plain": [
       "(1498, 1498)"
      ]
     },
     "execution_count": 38,
     "metadata": {},
     "output_type": "execute_result"
    }
   ],
   "source": [
    "len(x_shannon_entropy), len(x_new)"
   ]
  },
  {
   "cell_type": "code",
   "execution_count": 3,
   "metadata": {},
   "outputs": [],
   "source": [
    "x_entropy, y_entropy = apply_entropy(x, y, bias=0)"
   ]
  },
  {
   "cell_type": "code",
   "execution_count": 4,
   "metadata": {},
   "outputs": [],
   "source": [
    "train_x, test_x, train_y, test_y =  train_test_split(x_entropy, y_entropy, test_size=0.33, random_state=84)"
   ]
  },
  {
   "cell_type": "code",
   "execution_count": 5,
   "metadata": {},
   "outputs": [
    {
     "name": "stdout",
     "output_type": "stream",
     "text": [
      "Number of PIZZAS in training: 660\n",
      "Number of NON-PIZZAS in training: 343\n",
      "Number of PIZZAS in test: 313\n",
      "Number of NON-PIZZAS in test: 182\n"
     ]
    }
   ],
   "source": [
    "tr = np.array(train_y)\n",
    "ts = np.array(test_y)\n",
    "\n",
    "print(\"Number of PIZZAS in training: {}\".format(len(np.where(tr == 1)[0])))\n",
    "print(\"Number of NON-PIZZAS in training: {}\".format(len(np.where(tr == 0)[0])))\n",
    "\n",
    "print(\"Number of PIZZAS in test: {}\".format(len(np.where(ts == 1)[0])))\n",
    "print(\"Number of NON-PIZZAS in test: {}\".format(len(np.where(ts == 0)[0])))"
   ]
  },
  {
   "cell_type": "code",
   "execution_count": 6,
   "metadata": {},
   "outputs": [],
   "source": [
    "train_x_orig = np.array(train_x)\n",
    "test_x_orig = np.array(test_x)\n",
    "train_y = np.array([train_y])\n",
    "test_y = np.array([test_y])"
   ]
  },
  {
   "cell_type": "code",
   "execution_count": 7,
   "metadata": {},
   "outputs": [],
   "source": [
    "# Explore your dataset \n",
    "m_train = train_x_orig.shape[0]\n",
    "num_px = train_x_orig.shape[1]\n",
    "m_test = test_x_orig.shape[0]"
   ]
  },
  {
   "cell_type": "code",
   "execution_count": 8,
   "metadata": {},
   "outputs": [],
   "source": [
    "# Reshape the training and test examples \n",
    "train_x_flatten = train_x_orig.reshape(train_x_orig.shape[0], -1).T   # The \"-1\" makes reshape flatten the remaining dimensions\n",
    "test_x_flatten = test_x_orig.reshape(test_x_orig.shape[0], -1).T\n",
    "\n",
    "train_x = train_x_flatten\n",
    "test_x = test_x_flatten"
   ]
  },
  {
   "cell_type": "code",
   "execution_count": 9,
   "metadata": {},
   "outputs": [],
   "source": [
    "def random_mini_batches(X, Y, mini_batch_size = 64, seed = 0):\n",
    "    \"\"\"\n",
    "    Creates a list of random minibatches from (X, Y)\n",
    "    \n",
    "    Arguments:\n",
    "    X -- input data, of shape (input size, number of examples)\n",
    "    Y -- true \"label\" vector (1 for blue dot / 0 for red dot), of shape (1, number of examples)\n",
    "    mini_batch_size -- size of the mini-batches, integer\n",
    "    \n",
    "    Returns:\n",
    "    mini_batches -- list of synchronous (mini_batch_X, mini_batch_Y)\n",
    "    \"\"\"\n",
    "    \n",
    "    np.random.seed(seed)            # To make your \"random\" minibatches the same as ours\n",
    "    m = X.shape[1]                  # number of training examples\n",
    "    mini_batches = []\n",
    "        \n",
    "    # Step 1: Shuffle (X, Y)\n",
    "    permutation = list(np.random.permutation(m))\n",
    "    shuffled_X = X[:, permutation]\n",
    "    shuffled_Y = Y[:, permutation].reshape((1,m))\n",
    "\n",
    "    # Step 2: Partition (shuffled_X, shuffled_Y). Minus the end case.\n",
    "    num_complete_minibatches = math.floor(m/mini_batch_size) # number of mini batches of size mini_batch_size in your partitionning\n",
    "    for k in range(0, num_complete_minibatches):\n",
    "        mini_batch_X = shuffled_X[:,k * mini_batch_size:(k + 1) * mini_batch_size]\n",
    "        mini_batch_Y = shuffled_Y[:,k * mini_batch_size:(k + 1) * mini_batch_size]\n",
    "        mini_batch = (mini_batch_X, mini_batch_Y)\n",
    "        mini_batches.append(mini_batch)\n",
    "    \n",
    "    # Handling the end case (last mini-batch < mini_batch_size)\n",
    "    if m % mini_batch_size != 0:\n",
    "        final_batch_size = m-mini_batch_size*(m/mini_batch_size)\n",
    "        mini_batch_X = shuffled_X[:,num_complete_minibatches * mini_batch_size:]\n",
    "        mini_batch_Y = shuffled_Y[:,num_complete_minibatches * mini_batch_size:]\n",
    "        mini_batch = (mini_batch_X, mini_batch_Y)\n",
    "        mini_batches.append(mini_batch)\n",
    "    \n",
    "    return mini_batches"
   ]
  },
  {
   "cell_type": "code",
   "execution_count": 10,
   "metadata": {},
   "outputs": [],
   "source": [
    "def initialize_adam(parameters) :\n",
    "    \"\"\"\n",
    "    Initializes v and s as two python dictionaries with:\n",
    "                - keys: \"dW1\", \"db1\", ..., \"dWL\", \"dbL\" \n",
    "                - values: numpy arrays of zeros of the same shape as the corresponding gradients/parameters.\n",
    "    \n",
    "    Arguments:\n",
    "    parameters -- python dictionary containing your parameters.\n",
    "                    parameters[\"W\" + str(l)] = Wl\n",
    "                    parameters[\"b\" + str(l)] = bl\n",
    "    \n",
    "    Returns: \n",
    "    v -- python dictionary that will contain the exponentially weighted average of the gradient.\n",
    "                    v[\"dW\" + str(l)] = ...\n",
    "                    v[\"db\" + str(l)] = ...\n",
    "    s -- python dictionary that will contain the exponentially weighted average of the squared gradient.\n",
    "                    s[\"dW\" + str(l)] = ...\n",
    "                    s[\"db\" + str(l)] = ...\n",
    "\n",
    "    \"\"\"\n",
    "    \n",
    "    L = len(parameters) // 2 # number of layers in the neural networks\n",
    "    v = {}\n",
    "    s = {}\n",
    "    \n",
    "    # Initialize v, s. Input: \"parameters\". Outputs: \"v, s\".\n",
    "    for l in range(L):\n",
    "        v[\"dW\" + str(l+1)] = np.zeros_like(parameters[\"W\" + str(l+1)])\n",
    "        v[\"db\" + str(l+1)] = np.zeros_like(parameters[\"b\" + str(l+1)])\n",
    "        s[\"dW\" + str(l+1)] = np.zeros_like(parameters[\"W\" + str(l+1)])\n",
    "        s[\"db\" + str(l+1)] = np.zeros_like(parameters[\"b\" + str(l+1)])\n",
    "    \n",
    "    return v, s"
   ]
  },
  {
   "cell_type": "code",
   "execution_count": 11,
   "metadata": {},
   "outputs": [],
   "source": [
    "def update_parameters_with_adam(parameters, grads, v, s, t, learning_rate = 0.01, beta1 = 0.9, beta2 = 0.999,  epsilon = 1e-8):\n",
    "    \"\"\"\n",
    "    Update parameters using Adam\n",
    "    \n",
    "    Arguments:\n",
    "    parameters -- python dictionary containing your parameters:\n",
    "                    parameters['W' + str(l)] = Wl\n",
    "                    parameters['b' + str(l)] = bl\n",
    "    grads -- python dictionary containing your gradients for each parameters:\n",
    "                    grads['dW' + str(l)] = dWl\n",
    "                    grads['db' + str(l)] = dbl\n",
    "    v -- Adam variable, moving average of the first gradient, python dictionary\n",
    "    s -- Adam variable, moving average of the squared gradient, python dictionary\n",
    "    learning_rate -- the learning rate, scalar.\n",
    "    beta1 -- Exponential decay hyperparameter for the first moment estimates \n",
    "    beta2 -- Exponential decay hyperparameter for the second moment estimates \n",
    "    epsilon -- hyperparameter preventing division by zero in Adam updates\n",
    "\n",
    "    Returns:\n",
    "    parameters -- python dictionary containing your updated parameters \n",
    "    v -- Adam variable, moving average of the first gradient, python dictionary\n",
    "    s -- Adam variable, moving average of the squared gradient, python dictionary\n",
    "    \"\"\"\n",
    "    \n",
    "    L = len(parameters) // 2                 # number of layers in the neural networks\n",
    "    v_corrected = {}                         # Initializing first moment estimate, python dictionary\n",
    "    s_corrected = {}                         # Initializing second moment estimate, python dictionary\n",
    "    \n",
    "    # Perform Adam update on all parameters\n",
    "    for l in range(L):\n",
    "        # Moving average of the gradients. Inputs: \"v, grads, beta1\". Output: \"v\".\n",
    "        v[\"dW\" + str(l + 1)] = beta1 * v[\"dW\" + str(l + 1)] + (1 - beta1) * grads['dW' + str(l + 1)]\n",
    "        v[\"db\" + str(l + 1)] = beta1 * v[\"db\" + str(l + 1)] + (1 - beta1) * grads['db' + str(l + 1)]\n",
    "\n",
    "        # Compute bias-corrected first moment estimate. Inputs: \"v, beta1, t\". Output: \"v_corrected\".\n",
    "        v_corrected[\"dW\" + str(l+1)] = (v['dW' + str(l+1)])/(1-(beta1**t))\n",
    "        v_corrected[\"db\" + str(l+1)] = (v['db' + str(l+1)])/(1-(beta1**t))\n",
    "\n",
    "        # Moving average of the squared gradients. Inputs: \"s, grads, beta2\". Output: \"s\".\n",
    "        s[\"dW\" + str(l+1)] = beta2*(s['dW' + str(l+1)]) + (1-beta2)*((grads[\"dW\" + str(l+1)])**2)\n",
    "        s[\"db\" + str(l+1)] = beta2*(s['db' + str(l+1)]) + (1-beta2)*((grads[\"db\" + str(l+1)])**2)\n",
    "\n",
    "        # Compute bias-corrected second raw moment estimate. Inputs: \"s, beta2, t\". Output: \"s_corrected\".\n",
    "        s_corrected[\"dW\" + str(l+1)] = (s['dW' + str(l+1)])/(1-(beta2**t))\n",
    "        s_corrected[\"db\" + str(l+1)] = (s['db' + str(l+1)])/(1-(beta2**t))\n",
    "\n",
    "        # Update parameters. Inputs: \"parameters, learning_rate, v_corrected, s_corrected, epsilon\". Output: \"parameters\".\n",
    "        parameters[\"W\" + str(l+1)] = parameters[\"W\" + str(l+1)] - learning_rate*v_corrected['dW' +str(l+1)]/(s_corrected['dW' + str(l+1)]+epsilon)**(1/2)\n",
    "        parameters[\"b\" + str(l+1)] = parameters[\"b\" + str(l+1)] - learning_rate*v_corrected['db' +str(l+1)]/(s_corrected['db' + str(l+1)]+epsilon)**(1/2)\n",
    "\n",
    "    return parameters, v, s"
   ]
  },
  {
   "cell_type": "code",
   "execution_count": 15,
   "metadata": {},
   "outputs": [],
   "source": [
    "def L_layer_model(X, Y, layers_dims, test_x, test_y, lambd=0, learning_rate = 0.0007, mini_batch_size = 32, beta = 0.9,\n",
    "                beta1 = 0.9, beta2 = 0.999, epsilon = 1e-8, num_epochs = 200, print_cost=True):\n",
    "    \"\"\"\n",
    "    Implements a L-layer neural network: [LINEAR->RELU]*(L-1)->LINEAR->SIGMOID.\n",
    "    \n",
    "    Arguments:\n",
    "    X -- data, numpy array of shape (number of examples, num_px * num_px * 3)\n",
    "    Y -- true \"label\" vector (containing 0 if cat, 1 if non-cat), of shape (1, number of examples)\n",
    "    layers_dims -- list containing the input size and each layer size, of length (number of layers + 1).\n",
    "    learning_rate -- learning rate of the gradient descent update rule\n",
    "    num_iterations -- number of iterations of the optimization loop\n",
    "    print_cost -- if True, it prints the cost every 100 steps\n",
    "    \n",
    "    Returns:\n",
    "    parameters -- parameters learnt by the model. They can then be used to predict.\n",
    "    \"\"\"\n",
    "\n",
    "    \n",
    "    L = len(layers_dims)\n",
    "    costs = [] # keep track of cost\n",
    "    prediction_test = [] #keep track of prediction accuracy (test_data)\n",
    "    prediction_train = [] # keep track of prediciton accuracy (train_data)\n",
    "        \n",
    "    t = 0 #Initialize the counter required for Adam update\n",
    "    seed = 10 \n",
    "    m = X.shape[1] #number of training examples\n",
    "    \n",
    "    # Parameters initialization.\n",
    "    parameters = initialize_parameters_he(layers_dims)\n",
    "    \n",
    "    # Initialize the otimizer Adam\n",
    "    v, s = initialize_adam(parameters)\n",
    "    \n",
    "    # Initial predict to track accuracy\n",
    "    p, accuracy = predict(test_x, test_y, parameters) \n",
    "    prediction_test.append(float(accuracy))\n",
    "    \n",
    "    p, accuracy = predict(X, Y, parameters) \n",
    "    prediction_train.append(float(accuracy))\n",
    "    \n",
    "    # Loop (gradient descent)\n",
    "    for i in range(num_epochs):\n",
    "        \n",
    "        #Define the random minibatches. We increment the seed to reshuffle differently the datset after each epoch\n",
    "        seed += 1\n",
    "        \n",
    "        minibatches = random_mini_batches(X, Y, mini_batch_size, seed)\n",
    "        cost_total = 0\n",
    "        \n",
    "        for minibatch in minibatches:\n",
    "            \n",
    "            #Select a minibatch\n",
    "            (minibatch_X, minibatch_Y) = minibatch\n",
    "            \n",
    "            # Forward propagation: [LINEAR -> RELU]*(L-1) -> LINEAR -> SIGMOID.\n",
    "            AL, caches = L_model_forward(minibatch_X, parameters)\n",
    "        \n",
    "            # Compute cost.\n",
    "            if lambd == 0:\n",
    "                cost_total += compute_cost(AL, minibatch_Y)\n",
    "            else:\n",
    "                cost_total += compute_cost_with_regularization(AL, minibatch_Y, parameters, lambd)\n",
    "            \n",
    "            # Backward propagation.\n",
    "            if lambd == 0:\n",
    "                grads = back_propagation(AL, minibatch_Y, caches)\n",
    "            else:\n",
    "                grads = backward_with_regularization(AL, minibatch_Y, caches, lambd)\n",
    "\n",
    "            # Update parameters.\n",
    "            t = t + 1 # Adam counter\n",
    "            parameters, v, s = update_parameters_with_adam(parameters, grads, v, s, t, learning_rate, beta1, beta2, epsilon)\n",
    "            \n",
    "        #Compute the avarege cost for the actual minibacth\n",
    "        cost_avg = cost_total/m\n",
    "        costs.append(cost_avg)\n",
    "\n",
    "        # Print the cost every 100 training example\n",
    "        if print_cost and i % 5 == 0 and i != 0:\n",
    "            \n",
    "            p, accuracy_test = predict(test_x, test_y, parameters) #predict the test_data\n",
    "            p, accuracy_train = predict(X, Y, parameters) #predict the train_data\n",
    "            print(\"Accuracy (train): {0}\".format(accuracy_train))\n",
    "            print(\"Accuracy (test): {0}\".format(accuracy_test))\n",
    "            \n",
    "            print (\"Cost after epoch %i: %f\" %(i, cost_avg))            \n",
    "            print(\"---------------------------------------\")\n",
    "            \n",
    "            prediction_test.append(float(accuracy_test))\n",
    "            prediction_train.append(float(accuracy_train))\n",
    "        \n",
    "        \n",
    "\n",
    "    # plot the cost\n",
    "    plt.plot(np.squeeze(costs))\n",
    "    plt.ylabel('cost')\n",
    "    plt.xlabel('iterations (per five)')\n",
    "    plt.title(\"Learning rate =\" + str(learning_rate))\n",
    "    plt.grid(True)\n",
    "    plt.show()\n",
    "    \n",
    "    plt.plot(np.squeeze(prediction_test), label='test')\n",
    "    plt.plot(np.squeeze(prediction_train), label=\"train\")\n",
    "    plt.xlabel(\"iterations (per five)\")\n",
    "    plt.ylabel(\"accuracy\")\n",
    "    plt.grid(True)\n",
    "    plt.show()\n",
    "    return parameters"
   ]
  },
  {
   "cell_type": "code",
   "execution_count": 16,
   "metadata": {},
   "outputs": [],
   "source": [
    "layers_dims = [12288, 20, 20, 20, 15, 10, 7, 5, 1] #  8-layer model"
   ]
  },
  {
   "cell_type": "code",
   "execution_count": 17,
   "metadata": {
    "scrolled": true
   },
   "outputs": [
    {
     "name": "stdout",
     "output_type": "stream",
     "text": [
      "Accuracy (train): 0.7507477567298104\n",
      "Accuracy (test): 0.7818181818181816\n",
      "Cost after epoch 5: 0.073976\n",
      "---------------------------------------\n",
      "Accuracy (train): 0.7387836490528412\n",
      "Accuracy (test): 0.713131313131313\n",
      "Cost after epoch 10: 0.056483\n",
      "---------------------------------------\n",
      "Accuracy (train): 0.8105682951146558\n",
      "Accuracy (test): 0.7393939393939393\n",
      "Cost after epoch 15: 0.047686\n",
      "---------------------------------------\n",
      "Accuracy (train): 0.8584247258225322\n",
      "Accuracy (test): 0.7454545454545453\n",
      "Cost after epoch 20: 0.039758\n",
      "---------------------------------------\n",
      "Accuracy (train): 0.867397806580259\n",
      "Accuracy (test): 0.7474747474747473\n",
      "Cost after epoch 25: 0.034944\n",
      "---------------------------------------\n",
      "Accuracy (train): 0.84247258225324\n",
      "Accuracy (test): 0.7434343434343432\n",
      "Cost after epoch 30: 0.031166\n",
      "---------------------------------------\n",
      "Accuracy (train): 0.8973080757726816\n",
      "Accuracy (test): 0.7494949494949493\n",
      "Cost after epoch 35: 0.028864\n",
      "---------------------------------------\n",
      "Accuracy (train): 0.8604187437686937\n",
      "Accuracy (test): 0.7575757575757573\n",
      "Cost after epoch 40: 0.027217\n",
      "---------------------------------------\n",
      "Accuracy (train): 0.8514456630109668\n",
      "Accuracy (test): 0.7434343434343432\n",
      "Cost after epoch 45: 0.024283\n",
      "---------------------------------------\n",
      "Accuracy (train): 0.9481555333998002\n",
      "Accuracy (test): 0.7717171717171716\n",
      "Cost after epoch 50: 0.022803\n",
      "---------------------------------------\n",
      "Accuracy (train): 0.8933200398803587\n",
      "Accuracy (test): 0.7858585858585856\n",
      "Cost after epoch 55: 0.025925\n",
      "---------------------------------------\n",
      "Accuracy (train): 0.9222333000997005\n",
      "Accuracy (test): 0.7818181818181816\n",
      "Cost after epoch 60: 0.022652\n",
      "---------------------------------------\n",
      "Accuracy (train): 0.933200398803589\n",
      "Accuracy (test): 0.7535353535353533\n",
      "Cost after epoch 65: 0.021581\n",
      "---------------------------------------\n",
      "Accuracy (train): 0.8305084745762709\n",
      "Accuracy (test): 0.7272727272727271\n",
      "Cost after epoch 70: 0.023016\n",
      "---------------------------------------\n",
      "Accuracy (train): 0.941176470588235\n",
      "Accuracy (test): 0.7737373737373736\n",
      "Cost after epoch 75: 0.020911\n",
      "---------------------------------------\n",
      "Accuracy (train): 0.9102691924227315\n",
      "Accuracy (test): 0.7515151515151512\n",
      "Cost after epoch 80: 0.020627\n",
      "---------------------------------------\n",
      "Accuracy (train): 0.8853439680957126\n",
      "Accuracy (test): 0.7393939393939393\n",
      "Cost after epoch 85: 0.022890\n",
      "---------------------------------------\n",
      "Accuracy (train): 0.941176470588235\n",
      "Accuracy (test): 0.7494949494949493\n",
      "Cost after epoch 90: 0.018787\n",
      "---------------------------------------\n",
      "Accuracy (train): 0.7716849451645063\n",
      "Accuracy (test): 0.6969696969696968\n",
      "Cost after epoch 95: 0.020435\n",
      "---------------------------------------\n"
     ]
    },
    {
     "data": {
      "image/png": "[encoded data removed]",
      "text/plain": [
       "<Figure size 360x288 with 1 Axes>"
      ]
     },
     "metadata": {
      "needs_background": "light"
     },
     "output_type": "display_data"
    },
    {
     "data": {
      "image/png": "[encoded data removed]",
      "text/plain": [
       "<Figure size 360x288 with 1 Axes>"
      ]
     },
     "metadata": {
      "needs_background": "light"
     },
     "output_type": "display_data"
    }
   ],
   "source": [
    "parameters = L_layer_model(train_x, train_y, layers_dims, test_x, test_y, lambd = 1, num_epochs=100, print_cost = True)"
   ]
  },
  {
   "cell_type": "code",
   "execution_count": 23,
   "metadata": {},
   "outputs": [
    {
     "name": "stdout",
     "output_type": "stream",
     "text": [
      "Acc:  0.8980842911877394\n"
     ]
    }
   ],
   "source": [
    "pred_train, acc = predict(train_x, train_y, parameters)\n",
    "print(\"Acc: \", acc)"
   ]
  },
  {
   "cell_type": "code",
   "execution_count": 23,
   "metadata": {},
   "outputs": [
    {
     "name": "stdout",
     "output_type": "stream",
     "text": [
      "Acc:  0.7535353535353534\n"
     ]
    }
   ],
   "source": [
    "pred_test, acc = predict(test_x, test_y, parameters)\n",
    "print(\"Acc: \", acc)"
   ]
  },
  {
   "cell_type": "code",
   "execution_count": null,
   "metadata": {},
   "outputs": [],
   "source": [
    "analysis = false_and_positives_analysis(pred_test, test_y)"
   ]
  },
  {
   "cell_type": "code",
   "execution_count": null,
   "metadata": {},
   "outputs": [],
   "source": []
  }
 ],
 "metadata": {
  "kernelspec": {
   "display_name": "Python 3",
   "language": "python",
   "name": "python3"
  },
  "language_info": {
   "codemirror_mode": {
    "name": "ipython",
    "version": 3
   },
   "file_extension": ".py",
   "mimetype": "text/x-python",
   "name": "python",
   "nbconvert_exporter": "python",
   "pygments_lexer": "ipython3",
   "version": "3.8.3"
  }
 },
 "nbformat": 4,
 "nbformat_minor": 4
}
