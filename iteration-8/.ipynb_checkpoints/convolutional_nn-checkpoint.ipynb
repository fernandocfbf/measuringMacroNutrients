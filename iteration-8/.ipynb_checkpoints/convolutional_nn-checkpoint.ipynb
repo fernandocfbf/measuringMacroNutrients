{
 "cells": [
  {
   "cell_type": "code",
   "execution_count": 2,
   "metadata": {},
   "outputs": [],
   "source": [
    "# set the matplotlib backend so figures can be saved in the background\n",
    "import matplotlib\n",
    "\n",
    "# import the necessary packages\n",
    "from small_vgg_net import *\n",
    "from load_images_cnn import *\n",
    "from sklearn.preprocessing import LabelBinarizer\n",
    "from sklearn.model_selection import train_test_split\n",
    "from sklearn.metrics import classification_report\n",
    "from tensorflow.keras.preprocessing.image import ImageDataGenerator\n",
    "from tensorflow.keras.optimizers import SGD\n",
    "import tensorflow as tf\n",
    "import keras\n",
    "import matplotlib.pyplot as plt\n",
    "import numpy as np\n",
    "import argparse\n",
    "import random\n",
    "import pickle\n",
    "import cv2\n",
    "import os"
   ]
  },
  {
   "cell_type": "code",
   "execution_count": 3,
   "metadata": {},
   "outputs": [
    {
     "name": "stderr",
     "output_type": "stream",
     "text": [
      "900it [00:24, 36.21it/s]\n",
      "973it [00:15, 61.80it/s]\n",
      "1000it [00:27, 36.04it/s]\n",
      "1000it [00:27, 36.29it/s]\n",
      "1000it [00:25, 38.96it/s]\n",
      "1000it [00:38, 25.70it/s]\n",
      "1000it [00:40, 24.46it/s]\n"
     ]
    }
   ],
   "source": [
    "x, y = load_data()"
   ]
  },
  {
   "cell_type": "code",
   "execution_count": 4,
   "metadata": {},
   "outputs": [],
   "source": [
    "train_x, test_x, train_y, test_y =  train_test_split(x, y, test_size=0.33, random_state=84)"
   ]
  },
  {
   "cell_type": "code",
   "execution_count": 5,
   "metadata": {},
   "outputs": [],
   "source": [
    "lb = LabelBinarizer()\n",
    "train_y = lb.fit_transform(train_y)\n",
    "test_y = lb.transform(test_y)"
   ]
  },
  {
   "cell_type": "code",
   "execution_count": 6,
   "metadata": {},
   "outputs": [],
   "source": [
    "# construct the image generator for data augmentation\n",
    "aug = ImageDataGenerator(rotation_range=30, width_shift_range=0.1, \n",
    "                         height_shift_range=0.1, shear_range=0.2, zoom_range=0.2,\n",
    "                         horizontal_flip=True, fill_mode=\"nearest\")\n",
    "# initialize our VGG-like Convolutional Neural Network\n",
    "model = SmallVGGNet.build(width=64, height=64, depth=3, classes=len(lb.classes_))"
   ]
  },
  {
   "cell_type": "code",
   "execution_count": 7,
   "metadata": {},
   "outputs": [
    {
     "name": "stdout",
     "output_type": "stream",
     "text": [
      "[INFO] training network...\n",
      "Epoch 1/75\n",
      "143/143 [==============================] - 105s 708ms/step - loss: 2.7230 - accuracy: 0.2058 - val_loss: 3.7982 - val_accuracy: 0.1375\n",
      "INFO:tensorflow:Assets written to: C:\\Users\\ferna\\Documents\\Insper\\IC\\measuringMacroNutrients\\iteration-8\\assets\n",
      "Epoch 2/75\n",
      "143/143 [==============================] - 108s 756ms/step - loss: 2.1877 - accuracy: 0.2629 - val_loss: 2.8888 - val_accuracy: 0.1988\n",
      "INFO:tensorflow:Assets written to: C:\\Users\\ferna\\Documents\\Insper\\IC\\measuringMacroNutrients\\iteration-8\\assets\n",
      "Epoch 3/75\n",
      "143/143 [==============================] - 106s 742ms/step - loss: 1.9914 - accuracy: 0.3010 - val_loss: 2.6945 - val_accuracy: 0.2270\n",
      "INFO:tensorflow:Assets written to: C:\\Users\\ferna\\Documents\\Insper\\IC\\measuringMacroNutrients\\iteration-8\\assets\n",
      "Epoch 4/75\n",
      "143/143 [==============================] - 105s 736ms/step - loss: 1.7411 - accuracy: 0.3689 - val_loss: 2.4279 - val_accuracy: 0.2988\n",
      "INFO:tensorflow:Assets written to: C:\\Users\\ferna\\Documents\\Insper\\IC\\measuringMacroNutrients\\iteration-8\\assets\n",
      "Epoch 5/75\n",
      "143/143 [==============================] - 106s 745ms/step - loss: 1.6435 - accuracy: 0.3960 - val_loss: 2.1498 - val_accuracy: 0.3429\n",
      "INFO:tensorflow:Assets written to: C:\\Users\\ferna\\Documents\\Insper\\IC\\measuringMacroNutrients\\iteration-8\\assets\n",
      "Epoch 6/75\n",
      "143/143 [==============================] - 105s 737ms/step - loss: 1.5468 - accuracy: 0.4351 - val_loss: 1.6606 - val_accuracy: 0.4059\n",
      "INFO:tensorflow:Assets written to: C:\\Users\\ferna\\Documents\\Insper\\IC\\measuringMacroNutrients\\iteration-8\\assets\n",
      "Epoch 7/75\n",
      "143/143 [==============================] - 106s 739ms/step - loss: 1.5424 - accuracy: 0.4173 - val_loss: 3.6522 - val_accuracy: 0.2305\n",
      "Epoch 8/75\n",
      "143/143 [==============================] - 106s 745ms/step - loss: 1.4173 - accuracy: 0.4713 - val_loss: 1.8633 - val_accuracy: 0.4174\n",
      "INFO:tensorflow:Assets written to: C:\\Users\\ferna\\Documents\\Insper\\IC\\measuringMacroNutrients\\iteration-8\\assets\n",
      "Epoch 9/75\n",
      "143/143 [==============================] - 108s 756ms/step - loss: 1.3663 - accuracy: 0.5157 - val_loss: 1.8090 - val_accuracy: 0.4099\n",
      "Epoch 10/75\n",
      "143/143 [==============================] - 107s 746ms/step - loss: 1.3236 - accuracy: 0.5190 - val_loss: 2.2692 - val_accuracy: 0.3054\n",
      "Epoch 11/75\n",
      "143/143 [==============================] - 104s 728ms/step - loss: 1.4417 - accuracy: 0.4723 - val_loss: 1.5200 - val_accuracy: 0.4870\n",
      "INFO:tensorflow:Assets written to: C:\\Users\\ferna\\Documents\\Insper\\IC\\measuringMacroNutrients\\iteration-8\\assets\n",
      "Epoch 12/75\n",
      "143/143 [==============================] - 106s 741ms/step - loss: 1.2738 - accuracy: 0.5422 - val_loss: 1.5289 - val_accuracy: 0.4826\n",
      "Epoch 13/75\n",
      "143/143 [==============================] - 109s 763ms/step - loss: 1.2113 - accuracy: 0.5624 - val_loss: 2.4547 - val_accuracy: 0.2658\n",
      "Epoch 14/75\n",
      "143/143 [==============================] - 107s 746ms/step - loss: 1.1921 - accuracy: 0.5664 - val_loss: 1.5967 - val_accuracy: 0.4500\n",
      "Epoch 15/75\n",
      "143/143 [==============================] - 108s 758ms/step - loss: 1.1996 - accuracy: 0.5591 - val_loss: 1.3914 - val_accuracy: 0.4932\n",
      "INFO:tensorflow:Assets written to: C:\\Users\\ferna\\Documents\\Insper\\IC\\measuringMacroNutrients\\iteration-8\\assets\n",
      "Epoch 16/75\n",
      "143/143 [==============================] - 103s 723ms/step - loss: 1.1746 - accuracy: 0.5783 - val_loss: 1.8093 - val_accuracy: 0.4086\n",
      "Epoch 17/75\n",
      "143/143 [==============================] - 104s 728ms/step - loss: 1.0844 - accuracy: 0.6055 - val_loss: 1.5161 - val_accuracy: 0.4610\n",
      "Epoch 18/75\n",
      "143/143 [==============================] - 107s 747ms/step - loss: 1.0892 - accuracy: 0.6012 - val_loss: 1.1849 - val_accuracy: 0.5919\n",
      "INFO:tensorflow:Assets written to: C:\\Users\\ferna\\Documents\\Insper\\IC\\measuringMacroNutrients\\iteration-8\\assets\n",
      "Epoch 19/75\n",
      "143/143 [==============================] - 103s 719ms/step - loss: 1.0652 - accuracy: 0.6219 - val_loss: 1.5959 - val_accuracy: 0.4888\n",
      "Epoch 20/75\n",
      "143/143 [==============================] - 102s 717ms/step - loss: 1.0364 - accuracy: 0.6234 - val_loss: 1.4870 - val_accuracy: 0.4976\n",
      "Epoch 21/75\n",
      "143/143 [==============================] - 103s 720ms/step - loss: 1.0127 - accuracy: 0.6438 - val_loss: 1.0453 - val_accuracy: 0.6245\n",
      "INFO:tensorflow:Assets written to: C:\\Users\\ferna\\Documents\\Insper\\IC\\measuringMacroNutrients\\iteration-8\\assets\n",
      "Epoch 22/75\n",
      "143/143 [==============================] - 103s 722ms/step - loss: 0.9774 - accuracy: 0.6528 - val_loss: 1.2989 - val_accuracy: 0.5703\n",
      "Epoch 23/75\n",
      "143/143 [==============================] - 104s 726ms/step - loss: 0.9762 - accuracy: 0.6436 - val_loss: 1.4538 - val_accuracy: 0.5205\n",
      "Epoch 24/75\n",
      "143/143 [==============================] - 100s 699ms/step - loss: 0.9524 - accuracy: 0.6629 - val_loss: 1.7862 - val_accuracy: 0.4610\n",
      "Epoch 25/75\n",
      "143/143 [==============================] - 97s 679ms/step - loss: 0.9415 - accuracy: 0.6766 - val_loss: 1.5512 - val_accuracy: 0.4927\n",
      "Epoch 26/75\n",
      "143/143 [==============================] - 96s 673ms/step - loss: 0.9113 - accuracy: 0.6740 - val_loss: 2.5098 - val_accuracy: 0.3914\n",
      "Epoch 27/75\n",
      "143/143 [==============================] - 97s 676ms/step - loss: 0.9032 - accuracy: 0.6700 - val_loss: 1.3172 - val_accuracy: 0.5593\n",
      "Epoch 28/75\n",
      "143/143 [==============================] - 98s 688ms/step - loss: 0.8532 - accuracy: 0.6929 - val_loss: 1.6601 - val_accuracy: 0.5112\n",
      "Epoch 29/75\n",
      "143/143 [==============================] - 98s 682ms/step - loss: 0.9016 - accuracy: 0.6717 - val_loss: 2.8229 - val_accuracy: 0.3372\n",
      "Epoch 30/75\n",
      "143/143 [==============================] - 98s 683ms/step - loss: 0.8734 - accuracy: 0.6919 - val_loss: 1.2241 - val_accuracy: 0.5910\n",
      "Epoch 31/75\n",
      "143/143 [==============================] - 98s 683ms/step - loss: 0.8735 - accuracy: 0.6838 - val_loss: 0.9441 - val_accuracy: 0.6642\n",
      "INFO:tensorflow:Assets written to: C:\\Users\\ferna\\Documents\\Insper\\IC\\measuringMacroNutrients\\iteration-8\\assets\n",
      "Epoch 32/75\n",
      "143/143 [==============================] - 95s 663ms/step - loss: 0.7982 - accuracy: 0.7134 - val_loss: 1.3672 - val_accuracy: 0.5853\n",
      "Epoch 33/75\n",
      "143/143 [==============================] - 95s 663ms/step - loss: 0.8321 - accuracy: 0.7028 - val_loss: 1.0626 - val_accuracy: 0.6501\n",
      "Epoch 34/75\n",
      "143/143 [==============================] - 95s 664ms/step - loss: 0.7883 - accuracy: 0.7293 - val_loss: 1.4633 - val_accuracy: 0.5249\n",
      "Epoch 35/75\n",
      "143/143 [==============================] - 95s 664ms/step - loss: 0.8104 - accuracy: 0.7037 - val_loss: 1.2751 - val_accuracy: 0.5765\n",
      "Epoch 36/75\n",
      "143/143 [==============================] - 95s 662ms/step - loss: 0.7542 - accuracy: 0.7340 - val_loss: 1.1804 - val_accuracy: 0.6139\n",
      "Epoch 37/75\n",
      "143/143 [==============================] - 94s 659ms/step - loss: 0.7690 - accuracy: 0.7211 - val_loss: 1.9704 - val_accuracy: 0.4531\n",
      "Epoch 38/75\n",
      "143/143 [==============================] - 93s 653ms/step - loss: 0.7611 - accuracy: 0.7252 - val_loss: 1.1320 - val_accuracy: 0.6518\n",
      "Epoch 39/75\n",
      "143/143 [==============================] - 94s 655ms/step - loss: 0.7020 - accuracy: 0.7492 - val_loss: 2.1100 - val_accuracy: 0.4346\n",
      "Epoch 40/75\n",
      "143/143 [==============================] - 94s 658ms/step - loss: 0.7149 - accuracy: 0.7418 - val_loss: 1.1492 - val_accuracy: 0.6338\n",
      "Epoch 41/75\n",
      "143/143 [==============================] - 95s 664ms/step - loss: 0.6983 - accuracy: 0.7498 - val_loss: 0.9387 - val_accuracy: 0.6844\n",
      "INFO:tensorflow:Assets written to: C:\\Users\\ferna\\Documents\\Insper\\IC\\measuringMacroNutrients\\iteration-8\\assets\n",
      "Epoch 42/75\n",
      "143/143 [==============================] - 95s 662ms/step - loss: 0.6631 - accuracy: 0.7650 - val_loss: 1.1429 - val_accuracy: 0.6483\n",
      "Epoch 43/75\n",
      "143/143 [==============================] - 10896s 77s/step - loss: 0.6862 - accuracy: 0.7633 - val_loss: 1.0611 - val_accuracy: 0.6637\n",
      "Epoch 44/75\n",
      "143/143 [==============================] - 19373s 136s/step - loss: 0.6488 - accuracy: 0.7718 - val_loss: 1.1389 - val_accuracy: 0.6311\n",
      "Epoch 45/75\n",
      "143/143 [==============================] - 106s 741ms/step - loss: 0.6124 - accuracy: 0.7889 - val_loss: 1.1273 - val_accuracy: 0.6443\n",
      "Epoch 46/75\n",
      "143/143 [==============================] - 102s 715ms/step - loss: 0.6435 - accuracy: 0.7779 - val_loss: 0.9031 - val_accuracy: 0.7069\n"
     ]
    },
    {
     "name": "stdout",
     "output_type": "stream",
     "text": [
      "INFO:tensorflow:Assets written to: C:\\Users\\ferna\\Documents\\Insper\\IC\\measuringMacroNutrients\\iteration-8\\assets\n",
      "Epoch 47/75\n",
      "143/143 [==============================] - 111s 776ms/step - loss: 0.6452 - accuracy: 0.7803 - val_loss: 1.1598 - val_accuracy: 0.6395\n",
      "Epoch 48/75\n",
      "143/143 [==============================] - 108s 758ms/step - loss: 0.6187 - accuracy: 0.7851 - val_loss: 1.0629 - val_accuracy: 0.6787\n",
      "Epoch 49/75\n",
      "143/143 [==============================] - 111s 776ms/step - loss: 0.5869 - accuracy: 0.7946 - val_loss: 0.9915 - val_accuracy: 0.6955\n",
      "Epoch 50/75\n",
      "143/143 [==============================] - 112s 782ms/step - loss: 0.6180 - accuracy: 0.7797 - val_loss: 2.3896 - val_accuracy: 0.4579\n",
      "Epoch 51/75\n",
      "143/143 [==============================] - 115s 806ms/step - loss: 0.5467 - accuracy: 0.8042 - val_loss: 1.5166 - val_accuracy: 0.5866\n",
      "Epoch 52/75\n",
      "143/143 [==============================] - 111s 777ms/step - loss: 0.6075 - accuracy: 0.7845 - val_loss: 1.3166 - val_accuracy: 0.6091\n",
      "Epoch 53/75\n",
      "143/143 [==============================] - 115s 803ms/step - loss: 0.5860 - accuracy: 0.7922 - val_loss: 1.0737 - val_accuracy: 0.6809\n",
      "Epoch 54/75\n",
      "143/143 [==============================] - 124s 871ms/step - loss: 0.5907 - accuracy: 0.7917 - val_loss: 2.3415 - val_accuracy: 0.4742\n",
      "Epoch 55/75\n",
      "143/143 [==============================] - 128s 894ms/step - loss: 0.5347 - accuracy: 0.8190 - val_loss: 1.2556 - val_accuracy: 0.6280\n",
      "Epoch 56/75\n",
      "143/143 [==============================] - 128s 892ms/step - loss: 0.5274 - accuracy: 0.8195 - val_loss: 1.3055 - val_accuracy: 0.6399\n",
      "Epoch 57/75\n",
      "143/143 [==============================] - 118s 829ms/step - loss: 0.5162 - accuracy: 0.8181 - val_loss: 1.1593 - val_accuracy: 0.6580\n",
      "Epoch 58/75\n",
      "143/143 [==============================] - 114s 801ms/step - loss: 0.5365 - accuracy: 0.8125 - val_loss: 1.0736 - val_accuracy: 0.6765\n",
      "Epoch 59/75\n",
      "143/143 [==============================] - 115s 805ms/step - loss: 0.4942 - accuracy: 0.8217 - val_loss: 1.0432 - val_accuracy: 0.6972\n",
      "Epoch 60/75\n",
      "143/143 [==============================] - 110s 770ms/step - loss: 0.5403 - accuracy: 0.8158 - val_loss: 1.1232 - val_accuracy: 0.6721\n",
      "Epoch 61/75\n",
      "143/143 [==============================] - 119s 835ms/step - loss: 0.4807 - accuracy: 0.8253 - val_loss: 1.2657 - val_accuracy: 0.6338\n",
      "Epoch 62/75\n",
      "143/143 [==============================] - 119s 835ms/step - loss: 0.5395 - accuracy: 0.8130 - val_loss: 1.3071 - val_accuracy: 0.6298\n",
      "Epoch 63/75\n",
      "143/143 [==============================] - 104s 729ms/step - loss: 0.4704 - accuracy: 0.8381 - val_loss: 0.9503 - val_accuracy: 0.7135\n",
      "INFO:tensorflow:Assets written to: C:\\Users\\ferna\\Documents\\Insper\\IC\\measuringMacroNutrients\\iteration-8\\assets\n",
      "Epoch 64/75\n",
      "143/143 [==============================] - 114s 799ms/step - loss: 0.4666 - accuracy: 0.8393 - val_loss: 2.6888 - val_accuracy: 0.4650\n",
      "Epoch 65/75\n",
      "143/143 [==============================] - 136s 949ms/step - loss: 0.4936 - accuracy: 0.8278 - val_loss: 1.1992 - val_accuracy: 0.6853\n",
      "Epoch 66/75\n",
      "143/143 [==============================] - 120s 835ms/step - loss: 0.4395 - accuracy: 0.8432 - val_loss: 1.3015 - val_accuracy: 0.6271\n",
      "Epoch 67/75\n",
      "143/143 [==============================] - 112s 783ms/step - loss: 0.4474 - accuracy: 0.8405 - val_loss: 1.0861 - val_accuracy: 0.6915\n",
      "Epoch 68/75\n",
      "143/143 [==============================] - 119s 831ms/step - loss: 0.4503 - accuracy: 0.8429 - val_loss: 1.1860 - val_accuracy: 0.6509\n",
      "Epoch 69/75\n",
      "143/143 [==============================] - 124s 870ms/step - loss: 0.5092 - accuracy: 0.8228 - val_loss: 1.5250 - val_accuracy: 0.5884\n",
      "Epoch 70/75\n",
      "143/143 [==============================] - 128s 896ms/step - loss: 0.4167 - accuracy: 0.8438 - val_loss: 1.6552 - val_accuracy: 0.6122\n",
      "Epoch 71/75\n",
      "143/143 [==============================] - 128s 896ms/step - loss: 0.4169 - accuracy: 0.8613 - val_loss: 1.1969 - val_accuracy: 0.6814\n",
      "Epoch 72/75\n",
      "143/143 [==============================] - 132s 926ms/step - loss: 0.4266 - accuracy: 0.8439 - val_loss: 0.9475 - val_accuracy: 0.7126\n",
      "Epoch 73/75\n",
      "143/143 [==============================] - 125s 873ms/step - loss: 0.4522 - accuracy: 0.8312 - val_loss: 2.1019 - val_accuracy: 0.5214\n",
      "Epoch 74/75\n",
      "143/143 [==============================] - 114s 800ms/step - loss: 0.4092 - accuracy: 0.8486 - val_loss: 1.0215 - val_accuracy: 0.7012\n",
      "Epoch 75/75\n",
      "143/143 [==============================] - 124s 865ms/step - loss: 0.4058 - accuracy: 0.8596 - val_loss: 0.9855 - val_accuracy: 0.7307\n",
      "INFO:tensorflow:Assets written to: C:\\Users\\ferna\\Documents\\Insper\\IC\\measuringMacroNutrients\\iteration-8\\assets\n"
     ]
    }
   ],
   "source": [
    "# initialize our initial learning rate, # of epochs to train for,\n",
    "# and batch size\n",
    "INIT_LR = 0.01\n",
    "EPOCHS = 75\n",
    "BS = 32\n",
    "# initialize the model and optimizer (you'll want to use\n",
    "# binary_crossentropy for 2-class classification)\n",
    "print(\"[INFO] training network...\")\n",
    "opt = SGD(lr=INIT_LR, decay=INIT_LR / EPOCHS)\n",
    "model.compile(loss=\"categorical_crossentropy\", optimizer=\"adam\", metrics=[\"accuracy\"])\n",
    "\n",
    "#save the best epoch\n",
    "model_checkpoint = tf.keras.callbacks.ModelCheckpoint(\n",
    "    filepath = r'C:\\Users\\ferna\\Documents\\Insper\\IC\\measuringMacroNutrients\\iteration-8',\n",
    "    monitor='val_accuracy',\n",
    "    mode='max',\n",
    "    save_best_only=True)\n",
    "\n",
    "# train the network\n",
    "H = model.fit(x=aug.flow(train_x, train_y, batch_size=BS),\n",
    "              validation_data=(test_x, test_y),\n",
    "              steps_per_epoch=len(train_x) // BS, \n",
    "              epochs=EPOCHS,\n",
    "              callbacks=[model_checkpoint]\n",
    "             )"
   ]
  },
  {
   "cell_type": "code",
   "execution_count": 8,
   "metadata": {},
   "outputs": [
    {
     "data": {
      "text/plain": [
       "0.7307183742523193"
      ]
     },
     "execution_count": 8,
     "metadata": {},
     "output_type": "execute_result"
    }
   ],
   "source": [
    "max(H.history[\"val_accuracy\"])"
   ]
  },
  {
   "cell_type": "code",
   "execution_count": 10,
   "metadata": {},
   "outputs": [
    {
     "name": "stdout",
     "output_type": "stream",
     "text": [
      "[INFO] evaluating network...\n"
     ]
    },
    {
     "data": {
      "image/png": "[encoded data removed]",
      "text/plain": [
       "<Figure size 432x288 with 1 Axes>"
      ]
     },
     "metadata": {},
     "output_type": "display_data"
    }
   ],
   "source": [
    "# evaluate the network\n",
    "print(\"[INFO] evaluating network...\")\n",
    "#predictions = model.predict(x=test_x, batch_size=32)\n",
    "##print(classification_report(test_y.argmax(axis=1), predictions.argmax(axis=1), target_names=lb.classes_))\n",
    "# plot the training loss and accuracy\n",
    "N = np.arange(0, EPOCHS)\n",
    "plt.style.use(\"ggplot\")\n",
    "plt.figure()\n",
    "plt.plot(N, H.history[\"loss\"], label=\"train_loss\")\n",
    "#plt.plot(N, H.history[\"val_loss\"], label=\"val_loss\")\n",
    "#plt.plot(N, H.history[\"accuracy\"], label=\"train_acc\")\n",
    "plt.plot(N, H.history[\"val_accuracy\"], label=\"val_acc\")\n",
    "plt.title(\"Training Loss and Accuracy (SmallVGGNet)\")\n",
    "plt.xlabel(\"Epoch #\")\n",
    "plt.ylabel(\"Loss/Accuracy\")\n",
    "plt.legend()\n",
    "plt.show()"
   ]
  },
  {
   "cell_type": "code",
   "execution_count": null,
   "metadata": {},
   "outputs": [],
   "source": []
  }
 ],
 "metadata": {
  "kernelspec": {
   "display_name": "Python 3",
   "language": "python",
   "name": "python3"
  },
  "language_info": {
   "codemirror_mode": {
    "name": "ipython",
    "version": 3
   },
   "file_extension": ".py",
   "mimetype": "text/x-python",
   "name": "python",
   "nbconvert_exporter": "python",
   "pygments_lexer": "ipython3",
   "version": "3.8.3"
  }
 },
 "nbformat": 4,
 "nbformat_minor": 4
}
